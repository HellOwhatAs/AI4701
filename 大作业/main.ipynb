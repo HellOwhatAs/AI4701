{
 "cells": [
  {
   "cell_type": "code",
   "execution_count": 12,
   "metadata": {},
   "outputs": [],
   "source": [
    "import numpy as np\n",
    "import matplotlib.pyplot as plt\n",
    "import cv2\n",
    "from segment_anything import sam_model_registry, SamAutomaticMaskGenerator, SamPredictor\n",
    "\n",
    "sam_checkpoint = \"./../../segmentanything/Scripts/sam_vit_h_4b8939.pth\"\n",
    "model_type = \"vit_h\"\n",
    "device = \"cuda\"\n",
    "\n",
    "sam = sam_model_registry[model_type](checkpoint=sam_checkpoint)\n",
    "sam.to(device=device)\n",
    "mask_generator = SamAutomaticMaskGenerator(sam)"
   ]
  },
  {
   "cell_type": "code",
   "execution_count": 13,
   "metadata": {},
   "outputs": [],
   "source": [
    "def func(path: str):\n",
    "    image = cv2.imread(path)\n",
    "    image = cv2.resize(image, (0,0), fx=0.5, fy=0.5)\n",
    "    masks = mask_generator.generate(image)\n",
    "    max_img, max_val, max_idx, max_part = None, 0, None, None\n",
    "    for idx, ann in enumerate(sorted(masks, key=(lambda x: x['area']), reverse=True)):\n",
    "        part = np.sum(ann['segmentation'] != 0) / (ann['segmentation'].shape[0] * ann['segmentation'].shape[1])\n",
    "        if part < 0.005: continue\n",
    "        mask_img = np.where(ann['segmentation'][:,:,None][:,:,(0,0,0)], image, 0)\n",
    "        mask_hsv = cv2.cvtColor(mask_img, cv2.COLOR_BGR2HSV)\n",
    "\n",
    "        val = max(\n",
    "            (np.sum(cv2.inRange(mask_hsv, np.array([105, 161, 108]), np.array([112, 255, 210])) != 0) / np.sum(ann['segmentation'] != 0)),\n",
    "            (np.sum(cv2.inRange(mask_hsv, np.array([38, 30, 133]), np.array([100, 164, 218])) != 0) / np.sum(ann['segmentation'] != 0))\n",
    "        )\n",
    "        if val > 0.7: continue\n",
    "        if val > max_val:\n",
    "            max_val = val\n",
    "            max_img = mask_img\n",
    "            max_idx = idx\n",
    "            max_part = part\n",
    "    print(max_val, max_idx, max_part)\n",
    "    plt.imshow(max_img)"
   ]
  }
 ],
 "metadata": {
  "kernelspec": {
   "display_name": "Python 3",
   "language": "python",
   "name": "python3"
  },
  "language_info": {
   "codemirror_mode": {
    "name": "ipython",
    "version": 3
   },
   "file_extension": ".py",
   "mimetype": "text/x-python",
   "name": "python",
   "nbconvert_exporter": "python",
   "pygments_lexer": "ipython3",
   "version": "3.8.10"
  },
  "orig_nbformat": 4
 },
 "nbformat": 4,
 "nbformat_minor": 2
}
